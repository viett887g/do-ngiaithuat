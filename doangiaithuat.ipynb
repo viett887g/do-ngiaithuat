{
  "nbformat": 4,
  "nbformat_minor": 0,
  "metadata": {
    "colab": {
      "name": "doangiaithuat.ipynb",
      "provenance": [],
      "collapsed_sections": [],
      "authorship_tag": "ABX9TyMtqa6eCtFWemcuPZyvk4Lb",
      "include_colab_link": true
    },
    "kernelspec": {
      "name": "python3",
      "display_name": "Python 3"
    },
    "language_info": {
      "name": "python"
    }
  },
  "cells": [
    {
      "cell_type": "markdown",
      "metadata": {
        "id": "view-in-github",
        "colab_type": "text"
      },
      "source": [
        "<a href=\"https://colab.research.google.com/github/viett887g/do-ngiaithuat/blob/main/doangiaithuat.ipynb\" target=\"_parent\"><img src=\"https://colab.research.google.com/assets/colab-badge.svg\" alt=\"Open In Colab\"/></a>"
      ]
    },
    {
      "cell_type": "markdown",
      "source": [
        "1. Giải thuật đệ quy\n",
        "BT01. Tháp Hà Nội"
      ],
      "metadata": {
        "id": "CKh48nPQbqtG"
      }
    },
    {
      "cell_type": "code",
      "execution_count": null,
      "metadata": {
        "colab": {
          "base_uri": "https://localhost:8080/"
        },
        "id": "HuHwpRN1bO3r",
        "outputId": "c663a08c-d406-4283-b822-c1a6904f758a"
      },
      "outputs": [
        {
          "output_type": "stream",
          "name": "stdout",
          "text": [
            "3\n",
            "chuyen tu 1 sang 3\n",
            "chuyen tu cot  1 sang cot 2\n",
            "chuyen tu 3 sang 2\n",
            "chuyen tu cot  1 sang cot 3\n",
            "chuyen tu 2 sang 1\n",
            "chuyen tu cot  2 sang cot 3\n",
            "chuyen tu 1 sang 3\n"
          ]
        }
      ],
      "source": [
        "def thapHaNoi(n,a, b, c):\n",
        "  if (n==1):\n",
        "  \tprint( \"chuyen tu\", a, \"sang\", c)\n",
        "\n",
        "  else:\n",
        "  \tthapHaNoi(n-1, a, c, b)\n",
        "  \tprint(\"chuyen tu cot \",a, \"sang cot\", c)\n",
        "  \tthapHaNoi(n-1, b,a, c)\n",
        "n=int(input())\n",
        "thapHaNoi(n,\"1\",\"2\",\"3\")"
      ]
    },
    {
      "cell_type": "markdown",
      "source": [
        "BT02. Ước số chung lớn nhất"
      ],
      "metadata": {
        "id": "CwP94KNPcUah"
      }
    },
    {
      "cell_type": "code",
      "source": [
        "def uscln(a, b):\n",
        "    if (b == 0):\n",
        "        return a;\n",
        "    return uscln(b, a % b)\n",
        "a=int(input(\"so dau tien\"))\n",
        "b=int(input(\" so thu hai \"))\n",
        "print(\"ươc chung lớn nhất của\",a,\"va\",b,\"la\")\n",
        "uscln(a,b)"
      ],
      "metadata": {
        "colab": {
          "base_uri": "https://localhost:8080/"
        },
        "id": "QtaMOVbbcVEU",
        "outputId": "b7fc5970-08f6-437a-bfac-c12221fda938"
      },
      "execution_count": null,
      "outputs": [
        {
          "output_type": "stream",
          "name": "stdout",
          "text": [
            "so dau tien30\n",
            " so thu hai 26\n",
            "ươc chung lớn nhất của 30 va 26 la\n"
          ]
        },
        {
          "output_type": "execute_result",
          "data": {
            "text/plain": [
              "2"
            ]
          },
          "metadata": {},
          "execution_count": 11
        }
      ]
    },
    {
      "cell_type": "markdown",
      "source": [
        "BT03. Tính giai thừa của 1 số"
      ],
      "metadata": {
        "id": "SRZzlvyLe-FX"
      }
    },
    {
      "cell_type": "code",
      "source": [
        "def giai_thua(n):\n",
        "  if n==0:\n",
        "    return 1\n",
        "  return n* giai_thua(n-1)\n",
        "\n",
        "n=int(input())\n",
        "print(\"giai thua cua \",n,\"la\")\n",
        "giai_thua(n)\n"
      ],
      "metadata": {
        "colab": {
          "base_uri": "https://localhost:8080/"
        },
        "id": "WK-lpb2Te-le",
        "outputId": "6c77fe83-3b03-4ece-dedd-8de1fd105900"
      },
      "execution_count": null,
      "outputs": [
        {
          "output_type": "stream",
          "name": "stdout",
          "text": [
            "0\n",
            "giai thua cua  0 la\n"
          ]
        },
        {
          "output_type": "execute_result",
          "data": {
            "text/plain": [
              "1"
            ]
          },
          "metadata": {},
          "execution_count": 27
        }
      ]
    },
    {
      "cell_type": "markdown",
      "source": [
        "BT04. Bài toán mã đi tuần"
      ],
      "metadata": {
        "id": "mr2xz071gk8p"
      }
    },
    {
      "cell_type": "code",
      "source": [
        "n = 8\n",
        "def horse(x, y, board): #kiểm tra xem i, j có phải là các chỉ mục hợp lệ hay không\n",
        "    if(x >= 0 and y >= 0 and x < n and y < n and board[x][y] == -1):\n",
        "        return True\n",
        "    return False\n",
        " \n",
        " \n",
        "def printboard(n, board):#in ma trận bàn cờ\n",
        "\n",
        "    for i in range(n):\n",
        "        for j in range(n):\n",
        "            print(board[i][j], end=' ')\n",
        "        print()\n",
        " \n",
        " \n",
        "def toado(n):\n",
        "\n",
        "    board = [[-1 for i in range(n)]for i in range(n)] #Khởi tạo ma trận\n",
        "    move_x = [2, 1, -1, -2, -2, -1, 1, 2]\n",
        "    move_y = [1, 2, 2, 1, -1, -2, -2, -1]\n",
        "    board[0][0] = 0 #vi tri dau tiên\n",
        "    dem = 1 # bo đếm\n",
        "    if(not solveKTUtil(n, board, 0, 0, move_x, move_y, dem)): #kiểm tra\n",
        "        print(\"khong tồn tại\")\n",
        "    else:\n",
        "        printboard(n, board)\n",
        " \n",
        " \n",
        "def solveKTUtil(n, board, curr_x, curr_y, move_x, move_y, dem):\n",
        "    if(dem == n**2):\n",
        "        return True\n",
        "\n",
        "    for i in range(8):#thử tất cả các bước di chuyển tiếp theo từ tọa độ hiện tại x, y\n",
        "        new_x = curr_x + move_x[i]\n",
        "        new_y = curr_y + move_y[i]\n",
        "        if(horse(new_x, new_y, board)):\n",
        "            board[new_x][new_y] = dem\n",
        "            if(solveKTUtil(n, board, new_x, new_y, move_x, move_y, dem+1)):\n",
        "                return True\n",
        "            board[new_x][new_y] = -1\n",
        "    return False\n",
        "if __name__ == \"__main__\":\n",
        "    toado(n)"
      ],
      "metadata": {
        "colab": {
          "base_uri": "https://localhost:8080/"
        },
        "id": "Zqg8uS4AghmF",
        "outputId": "b93fac8c-d34d-4f86-e0c7-5df07070046c"
      },
      "execution_count": null,
      "outputs": [
        {
          "output_type": "stream",
          "name": "stdout",
          "text": [
            "0 59 38 33 30 17 8 63 \n",
            "37 34 31 60 9 62 29 16 \n",
            "58 1 36 39 32 27 18 7 \n",
            "35 48 41 26 61 10 15 28 \n",
            "42 57 2 49 40 23 6 19 \n",
            "47 50 45 54 25 20 11 14 \n",
            "56 43 52 3 22 13 24 5 \n",
            "51 46 55 44 53 4 21 12 \n"
          ]
        }
      ]
    },
    {
      "cell_type": "markdown",
      "source": [
        "BT05. Bài toán 8 quân hậu"
      ],
      "metadata": {
        "id": "5m2gU6qnhBVM"
      }
    },
    {
      "cell_type": "code",
      "source": [
        "N = int(input())\n",
        "board = [[0]*N for _ in range(N)] #câu lệnh dùng để tạo bàn cờ\n",
        "def attack(i, j):\n",
        "    for k in range(0,N):\n",
        "        if board[i][k]==1 or board[k][j]==1:#kiểm tra chiều dọc và chiều ngang\n",
        "            return True\n",
        "    for k in range(0,N):\n",
        "        for l in range(0,N):\n",
        "            if (k+l==i+j) or (k-l==i-j):#kiểm tra theo đường chéo\n",
        "                if board[k][l]==1:\n",
        "                    return True\n",
        "    return False\n",
        "def N_queens(n):\n",
        "    if n==0:\n",
        "        return True\n",
        "    for i in range(0,N):\n",
        "        for j in range(0,N):\n",
        "            if (not(attack(i,j))) and (board[i][j]!=1):\n",
        "                board[i][j] = 1\n",
        "                if N_queens(n-1)==True:\n",
        "                    return True\n",
        "                board[i][j] = 0\n",
        "    return False\n",
        "N_queens(N)\n",
        "for i in board:\n",
        "    print (i)"
      ],
      "metadata": {
        "colab": {
          "base_uri": "https://localhost:8080/"
        },
        "id": "wnvKWbxQhB-0",
        "outputId": "3289ff74-dc77-4a29-c729-28263ed041cd"
      },
      "execution_count": null,
      "outputs": [
        {
          "output_type": "stream",
          "name": "stdout",
          "text": [
            "8\n",
            "[1, 0, 0, 0, 0, 0, 0, 0]\n",
            "[0, 0, 0, 0, 1, 0, 0, 0]\n",
            "[0, 0, 0, 0, 0, 0, 0, 1]\n",
            "[0, 0, 0, 0, 0, 1, 0, 0]\n",
            "[0, 0, 1, 0, 0, 0, 0, 0]\n",
            "[0, 0, 0, 0, 0, 0, 1, 0]\n",
            "[0, 1, 0, 0, 0, 0, 0, 0]\n",
            "[0, 0, 0, 1, 0, 0, 0, 0]\n"
          ]
        }
      ]
    },
    {
      "cell_type": "markdown",
      "source": [
        "2. Danh sách liên kết\n",
        "\n",
        "BT06. Cài đặt danh sách liên kết đơn"
      ],
      "metadata": {
        "id": "Rz4JOKeRKCOh"
      }
    },
    {
      "cell_type": "code",
      "source": [
        "class Nut:\n",
        "  def __init__(self,gia_tri):\n",
        "    self.gia_tri= gia_tri\n",
        "    self.nut_ke_tiep= None\n",
        "\n",
        "class DSLK:\n",
        "  def __init__(self):  \n",
        "    self.dau= None\n",
        "    self.duoi=None\n",
        "  def in_ds(self):\n",
        "    stt=0\n",
        "    hien_tai=self.dau\n",
        "    kq=\"DS[\"\n",
        "    while hien_tai != None:\n",
        "      stt+=1\n",
        "      if stt==1:\n",
        "        kq += \" \" +str(hien_tai.gia_tri)\n",
        "      else:\n",
        "        kq+= \"-> \"+ str(hien_tai.gia_tri)\n",
        "\n",
        "      hien_tai= hien_tai.nut_ke_tiep\n",
        "    kq+= \"  ]\"\n",
        "    print(kq)"
      ],
      "metadata": {
        "id": "Tq4c9YY4e3rX"
      },
      "execution_count": null,
      "outputs": []
    },
    {
      "cell_type": "markdown",
      "source": [
        "BT07. Cài đặt danh sách liên kết kép"
      ],
      "metadata": {
        "id": "z3LsRfZXexBl"
      }
    },
    {
      "cell_type": "code",
      "source": [
        "class Nut:\n",
        "  def __init__(self,gia_tri):\n",
        "    self.gia_tri= gia_tri\n",
        "    self.nut_ke_tiep= None\n",
        "\n",
        "class DSLK:\n",
        "  def __init__(self):  \n",
        "    self.dau= None\n",
        "    self.duoi=None\n",
        "  def in_ds(self):\n",
        "    stt=0\n",
        "    hien_tai=self.dau\n",
        "    kq=\"DS[\"\n",
        "    while hien_tai != None:\n",
        "      stt+=1\n",
        "      if stt==1:\n",
        "        kq += \" \" +str(hien_tai.gia_tri)\n",
        "      else:\n",
        "        kq+= \"-> \"+ str(hien_tai.gia_tri)\n",
        "\n",
        "      hien_tai= hien_tai.nut_ke_tiep\n",
        "    kq+= \"  ]\"\n",
        "    print(kq) \n",
        "  \n",
        "  def them(self,gia_tri):\n",
        "    nut= Nut(gia_tri)\n",
        "    if self.dau==None:\n",
        "      self.dau=nut\n",
        "      self.duoi=nut\n",
        "    else:\n",
        "      self.duoi.nut_ke_tiep=nut\n",
        "      self.duoi=nut\n",
        "  \n",
        "  def chen(self, chi_muc, gia_tri):\n",
        "    nut=Nut(gia_tri)\n",
        "    truoc= None\n",
        "    hien_tai=self.dau\n",
        "    i=0\n",
        "    while i < chi_muc and hien_tai!=None:\n",
        "      i+=1\n",
        "      truoc=hien_tai\n",
        "      hien_tai=hien_tai.nut_ke_tiep\n",
        "    if truoc==None:\n",
        "      nut.nut_ke_tiep=self.dau\n",
        "      self.dau = nut\n",
        "      if self.duoi== None:\n",
        "        self.duoi=nut\n",
        "\n",
        "    else:\n",
        "      if hien_tai== None:\n",
        "        self.duoi.nut_ke_tiep = nut\n",
        "        self.duoi = nut\n",
        "      else:\n",
        "        truoc.nut_ke_tiep = hien_tai\n",
        "\n",
        "\n",
        "\n",
        "  \n",
        "  def tim(self,gia_tri):\n",
        "    hien_tai= self.dau\n",
        "    vi_tri= 0\n",
        "    while hien_tai != None and hien_tai.gia_tri != gia_tri:\n",
        "      hien_tai= hien_tai.nut_ke_tiep\n",
        "      vi_tri +=1\n",
        "    if hien_tai==None:\n",
        "      return None\n",
        "    else:\n",
        "      return vi_tri\n",
        "  \n",
        "  def xoa(self, gia_tri):\n",
        "    hien_tai=self.dau\n",
        "    truoc=None\n",
        "    while hien_tai!= None and hien_tai.gia_tri!= gia_tri:\n",
        "      truoc= hien_tai\n",
        "      hien_tai= hien_tai.nut_ke_tiep\n",
        "    if hien_tai != None:\n",
        "      if hien_tai== self.dau and hien_tai== self.duoi:\n",
        "        self.dau= self.duoi = None\n",
        "      elif hien_tai== self.dau:\n",
        "        self.dau = self.dau.nut_ke_tiep\n",
        "      elif hien_tai == self.duoi:\n",
        "        truoc.nut_ke_tiep=None\n",
        "        self.duoi= truoc\n",
        "      else:\n",
        "        truoc.nut_ke_tiep=hien_tai.nut_ke_tiep\n",
        "      del hien_tai\n",
        "  def cap_nhap(self, vi_tri, gia_tri):\n",
        "    hien_tai = self.dau\n",
        "    i=0\n",
        "    while i < vi_tri and hien_tai != None:\n",
        "      i+=1\n",
        "      hien_tai= hien_tai.nut_ke_tiep\n",
        "    if hien_tai!= None:\n",
        "      hien_tai.gia_tri = gia_tri\n",
        "  \n",
        "  def xoa_het(self):\n",
        "    hien_tai= self.dau\n",
        "    self.dau= self.duoi= None\n",
        "    while hien_tai != None:\n",
        "      tam = hien_tai\n",
        "      hien_tai=hien_tai.nut_ke_tiep\n",
        "      del tam"
      ],
      "metadata": {
        "id": "ZNxBlsmBlbdK"
      },
      "execution_count": null,
      "outputs": []
    },
    {
      "cell_type": "code",
      "source": [
        "def main():\n",
        "  ds= DSLK()\n",
        "  ds.in_ds()\n",
        "\n",
        "#them\n",
        "  so= 17\n",
        "  print(f'them{so}')\n",
        "  ds.them(so)\n",
        "  ds.in_ds()\n",
        "\n",
        "\n",
        "#chen\n",
        "  so=8\n",
        "  vt=1\n",
        "  print(f\"chen{so} vao vi tri {vt}\")\n",
        "  ds.chen(vt,so)\n",
        "  ds.in_ds()\n",
        "\n",
        "#tim\n",
        "  ds.in_ds()\n",
        "  so=8\n",
        "  vt = ds.tim(so)\n",
        "  print(f\"so {so} duoc tim thay trong mang o vi tri {vt}\")\n",
        "\n",
        "#xoa\n",
        "  so=17\n",
        "  print(f'xoa {so}')\n",
        "  ds.xoa(so)\n",
        "  ds.in_ds()\n",
        "#cap nhap \n",
        "  vt=0\n",
        "  gia_tri= 42\n",
        "  print(f\"cap nhap{vt} voi gia tri {gia_tri}\" )\n",
        "  ds.cap_nhap(vt,gia_tri)\n",
        "  ds.in_ds()\n",
        " #xoa het\n",
        "  ds.xoa_het()\n",
        "  ds.in_ds()\n",
        "if __name__== \"__main__\":\n",
        "  main()"
      ],
      "metadata": {
        "colab": {
          "base_uri": "https://localhost:8080/"
        },
        "id": "Gd_ny5PhLlsk",
        "outputId": "96f695b5-5f3b-4643-9038-52a156c36d16"
      },
      "execution_count": null,
      "outputs": [
        {
          "output_type": "stream",
          "name": "stdout",
          "text": [
            "DS[  ]\n",
            "them17\n",
            "DS[ 17  ]\n",
            "chen8 vao vi tri 1\n",
            "DS[ 17-> 8  ]\n",
            "DS[ 17-> 8  ]\n",
            "so 8 duoc tim thay trong mang o vi tri 1\n",
            "xoa 17\n",
            "DS[ 8  ]\n",
            "cap nhap0 voi gia tri 42\n",
            "DS[ 42  ]\n",
            "DS[  ]\n"
          ]
        }
      ]
    },
    {
      "cell_type": "markdown",
      "source": [
        "BT08. Cài đặt ngăn xếp - stack"
      ],
      "metadata": {
        "id": "eSLoFVxyfI9h"
      }
    },
    {
      "cell_type": "code",
      "source": [
        "class Nganxep:\n",
        "  def __init__(self):\n",
        "    self.danh_sach=[]\n",
        "  def la_rong(self):\n",
        "    return len(self.danh_sach)==0\n",
        "#ktra ngăn xếp rổng\n",
        "  def __str__(self):\n",
        "    kq = \"Ngan xep [\"\n",
        "    stt=0\n",
        "    for x in self.danh_sach:\n",
        "      stt=stt+1\n",
        "      if stt==1:\n",
        "        kq=kq + str(x)\n",
        "      else:\n",
        "        kq=kq +\" -> \" + str(x)\n",
        "    kq=kq+ \"]\"\n",
        "    return kq\n",
        "#chuyen danh sach ve kieu chuoi\n",
        "  def day_vao(self,gia_tri):\n",
        "    self.danh_sach.insert(0,gia_tri)\n",
        "#thuc hien dua gia tri vao chuoi\n",
        "  def lay_ra(self):\n",
        "    if self.la_rong():    \n",
        "      return None\n",
        "    else:\n",
        "      return self.danh_sach.pop(0)\n"
      ],
      "metadata": {
        "id": "WjgOF7CPfLKn"
      },
      "execution_count": null,
      "outputs": []
    },
    {
      "cell_type": "code",
      "source": [
        "if __name__==\"__main__\":\n",
        "  ngan_xep = Nganxep()\n",
        "  print(ngan_xep)\n",
        "  print(\"_____day_vao_____\")\n",
        "  for i in range(1,6):\n",
        "    print(f\"__day_vao__{i}\")\n",
        "    ngan_xep.day_vao(i)\n",
        "    print(ngan_xep)\n",
        "\n",
        "  print(\"____lay_ra_____\")\n",
        "  while not ngan_xep.la_rong():\n",
        "    gt = ngan_xep.lay_ra()\n",
        "    print(f\"lay ra -> {gt}\")\n",
        "    print(ngan_xep)"
      ],
      "metadata": {
        "colab": {
          "base_uri": "https://localhost:8080/"
        },
        "id": "n1x25L4BsI8r",
        "outputId": "54269d57-9b74-4c10-a1e8-ff5c55262e7a"
      },
      "execution_count": null,
      "outputs": [
        {
          "output_type": "stream",
          "name": "stdout",
          "text": [
            "Ngan xep []\n",
            "_____day_vao_____\n",
            "__day_vao__1\n",
            "Ngan xep [1]\n",
            "__day_vao__2\n",
            "Ngan xep [2 -> 1]\n",
            "__day_vao__3\n",
            "Ngan xep [3 -> 2 -> 1]\n",
            "__day_vao__4\n",
            "Ngan xep [4 -> 3 -> 2 -> 1]\n",
            "__day_vao__5\n",
            "Ngan xep [5 -> 4 -> 3 -> 2 -> 1]\n",
            "____lay_ra_____\n",
            "lay ra -> 5\n",
            "Ngan xep [4 -> 3 -> 2 -> 1]\n",
            "lay ra -> 4\n",
            "Ngan xep [3 -> 2 -> 1]\n",
            "lay ra -> 3\n",
            "Ngan xep [2 -> 1]\n",
            "lay ra -> 2\n",
            "Ngan xep [1]\n",
            "lay ra -> 1\n",
            "Ngan xep []\n"
          ]
        }
      ]
    },
    {
      "cell_type": "markdown",
      "source": [
        "BT09. Cài đặt hàng đợi - queue"
      ],
      "metadata": {
        "id": "DN4kbT6Bqf4k"
      }
    },
    {
      "cell_type": "code",
      "source": [
        "class Hang_doi:\n",
        "  def __init__(self):\n",
        "    self.danh_sach= DSLK()\n",
        "\n",
        "  def __str__(self):\n",
        "    kq= \"Hang doi [\"\n",
        "    kq= kq + \"]\"\n",
        "    return kq\n",
        "  def la_rong(self):\n",
        "    return self.danh_sach.dau==None\n",
        "  \n",
        "  \n",
        "  def xep_hang(self,gia_tri):\n",
        "    self.danh_sach.hang_doi(gia_tri)  \n",
        "  def hang_ra(self):\n",
        "    if self.la_rong():\n",
        "      return None\n",
        "    else:\n",
        "      kq = self.danh_sach.lay_dau()\n",
        "      self.danh_dach.xoa_dau()"
      ],
      "metadata": {
        "id": "XklxKmk3qgXD"
      },
      "execution_count": 25,
      "outputs": []
    },
    {
      "cell_type": "markdown",
      "source": [
        "3. Cây\n",
        "\n",
        "BT10. Cài đặt cây - duyệt cây theo thứ tự trước"
      ],
      "metadata": {
        "id": "eDKGN6Rsvknl"
      }
    },
    {
      "cell_type": "code",
      "source": [
        "class Node:\n",
        "\n",
        "    def __init__(self, data):\n",
        "\n",
        "        self.left = None\n",
        "        self.right = None\n",
        "        self.data = data\n",
        "# Insert Node\n",
        "    def insert(self, data):\n",
        "\n",
        "        if self.data:\n",
        "            if data < self.data:\n",
        "                if self.left is None:\n",
        "                    self.left = Node(data)\n",
        "                else:\n",
        "                    self.left.insert(data)\n",
        "            elif data > self.data:\n",
        "                if self.right is None:\n",
        "                    self.right = Node(data)\n",
        "                else:\n",
        "                    self.right.insert(data)\n",
        "        else:\n",
        "            self.data = data\n",
        "# Print the Tree\n",
        "    def PrintTree(self):\n",
        "        if self.left:\n",
        "            self.left.PrintTree()\n",
        "        print( self.data),\n",
        "        if self.right:\n",
        "            self.right.PrintTree()\n",
        "# Left -> Root -> Right\n",
        "    def inorderTraversal(self, root):\n",
        "        res = []\n",
        "        if root:\n",
        "            res = self.inorderTraversal(root.left)\n",
        "            res.append(root.data)\n",
        "            res = res + self.inorderTraversal(root.right)\n",
        "        return res\n",
        "\n",
        "root = Node(27)\n",
        "root.insert(14)\n",
        "root.insert(35)\n",
        "root.insert(10)\n",
        "root.insert(19)\n",
        "root.insert(31)\n",
        "root.insert(42)\n",
        "print(root.inorderTraversal(root))\n"
      ],
      "metadata": {
        "colab": {
          "base_uri": "https://localhost:8080/"
        },
        "id": "_QYvmYN4ZQGB",
        "outputId": "525212ce-475b-408e-a59f-ba5cb9b2493b"
      },
      "execution_count": 27,
      "outputs": [
        {
          "output_type": "stream",
          "name": "stdout",
          "text": [
            "[10, 14, 19, 27, 31, 35, 42]\n"
          ]
        }
      ]
    },
    {
      "cell_type": "markdown",
      "source": [
        "BT11. Cài đặt cây - duyệt cây theo thứ tự sau"
      ],
      "metadata": {
        "id": "4wPgKmUyZvuX"
      }
    },
    {
      "cell_type": "code",
      "source": [
        "class Node:\n",
        "\n",
        "    def __init__(self, data):\n",
        "\n",
        "        self.left = None\n",
        "        self.right = None\n",
        "        self.data = data\n",
        "# Insert Node\n",
        "    def insert(self, data):\n",
        "\n",
        "        if self.data:\n",
        "            if data < self.data:\n",
        "                if self.left is None:\n",
        "                    self.left = Node(data)\n",
        "                else:\n",
        "                    self.left.insert(data)\n",
        "            elif data > self.data:\n",
        "                if self.right is None:\n",
        "                    self.right = Node(data)\n",
        "                else:\n",
        "                    self.right.insert(data)\n",
        "        else:\n",
        "            self.data = data\n",
        "# Print the Tree\n",
        "    def PrintTree(self):\n",
        "        if self.left:\n",
        "            self.left.PrintTree()\n",
        "        print( self.data),\n",
        "        if self.right:\n",
        "            self.right.PrintTree()\n",
        "\n",
        "# Preorder traversal\n",
        "# Root -> Left ->Right\n",
        "    def PreorderTraversal(self, root):\n",
        "        res = []\n",
        "        if root:\n",
        "            res.append(root.data)\n",
        "            res = res + self.PreorderTraversal(root.left)\n",
        "            res = res + self.PreorderTraversal(root.right)\n",
        "        return res\n",
        "\n",
        "root = Node(27)\n",
        "root.insert(14)\n",
        "root.insert(35)\n",
        "root.insert(10)\n",
        "root.insert(19)\n",
        "root.insert(31)\n",
        "root.insert(42)\n",
        "print(root.PreorderTraversal(root))\n"
      ],
      "metadata": {
        "colab": {
          "base_uri": "https://localhost:8080/"
        },
        "id": "uWMNQK31Y5FV",
        "outputId": "7e2d38d6-563c-4b96-e851-662233887691"
      },
      "execution_count": 28,
      "outputs": [
        {
          "output_type": "stream",
          "name": "stdout",
          "text": [
            "[27, 14, 10, 19, 35, 31, 42]\n"
          ]
        }
      ]
    },
    {
      "cell_type": "markdown",
      "source": [
        "4. Đồ Thị"
      ],
      "metadata": {
        "id": "vaGIuDyeY4HK"
      }
    },
    {
      "cell_type": "code",
      "source": [
        "import math\n"
      ],
      "metadata": {
        "id": "OloNIgvgZL_g"
      },
      "execution_count": 5,
      "outputs": []
    },
    {
      "cell_type": "code",
      "source": [
        "import matplotlib.pyplot as plt"
      ],
      "metadata": {
        "id": "txLCep-DeG1n"
      },
      "execution_count": 13,
      "outputs": []
    },
    {
      "cell_type": "code",
      "source": [
        "from collections import defaultdict\n",
        " \n",
        "def build_graph():\n",
        "    edges = [\n",
        "        [\"A\", \"B\"], [\"A\", \"E\"],\n",
        "        [\"A\", \"C\"], [\"B\", \"D\"],\n",
        "        [\"B\", \"E\"], [\"C\", \"F\"],\n",
        "        [\"C\", \"G\"], [\"D\", \"E\"]\n",
        "    ]\n",
        "    graph = defaultdict(list)\n",
        "    for edge in edges:\n",
        "        a, b = edge[0], edge[1]\n",
        "         \n",
        "        # Creating the graph\n",
        "        # as adjacency list\n",
        "        graph[a].append(b)\n",
        "        graph[b].append(a)\n",
        "    return graph\n",
        " \n",
        "if __name__ == \"__main__\":\n",
        "    graph = build_graph()\n",
        "     \n",
        "    print(graph)"
      ],
      "metadata": {
        "colab": {
          "base_uri": "https://localhost:8080/"
        },
        "id": "0YGzaa1TiWac",
        "outputId": "ff543049-3f95-41d6-de45-04a06178e666"
      },
      "execution_count": 35,
      "outputs": [
        {
          "output_type": "stream",
          "name": "stdout",
          "text": [
            "defaultdict(<class 'list'>, {'A': ['B', 'E', 'C'], 'B': ['A', 'D', 'E'], 'E': ['A', 'B', 'D'], 'C': ['A', 'F', 'G'], 'D': ['B', 'E'], 'F': ['C'], 'G': ['C']})\n"
          ]
        }
      ]
    },
    {
      "cell_type": "markdown",
      "source": [
        "BT13. Cài đặt đồ thị có hướng"
      ],
      "metadata": {
        "id": "B-zBVCLIdhvY"
      }
    },
    {
      "cell_type": "code",
      "source": [
        "import networkx as nx\n",
        "import matplotlib.pyplot as plt\n",
        "\n",
        "G = nx.DiGraph()\n",
        "G.add_edges_from(\n",
        "    [('A', 'B'), ('A', 'C'), ('D', 'B'), ('E', 'C'), ('E', 'F'),\n",
        "     ('B', 'H'), ('B', 'G'), ('B', 'F'), ('C', 'G')])\n",
        "\n",
        "val_map = {'A': 1.0,\n",
        "           'D': 0.5714285714285714,\n",
        "           'H': 0.0}\n",
        "\n",
        "values = [val_map.get(node, 0.25) for node in G.nodes()]\n",
        "\n",
        "# Specify the edges you want here\n",
        "red_edges = [('A', 'C'), ('E', 'C')]\n",
        "edge_colours = ['black' if not edge in red_edges else 'red'\n",
        "                for edge in G.edges()]\n",
        "black_edges = [edge for edge in G.edges() if edge not in red_edges]\n",
        "\n",
        "# Need to create a layout when doing\n",
        "# separate calls to draw nodes and edges\n",
        "pos = nx.spring_layout(G)\n",
        "nx.draw_networkx_nodes(G, pos, cmap=plt.get_cmap('jet'), \n",
        "                       node_color = values, node_size = 500)\n",
        "nx.draw_networkx_labels(G, pos)\n",
        "nx.draw_networkx_edges(G, pos, edgelist=red_edges, edge_color='r', arrows=True)\n",
        "nx.draw_networkx_edges(G, pos, edgelist=black_edges, arrows=False)\n",
        "plt.show()"
      ],
      "metadata": {
        "colab": {
          "base_uri": "https://localhost:8080/",
          "height": 248
        },
        "id": "e18Cm00zcdmb",
        "outputId": "bfacdedd-b05b-4630-9045-060a6802b47e"
      },
      "execution_count": 9,
      "outputs": [
        {
          "output_type": "display_data",
          "data": {
            "text/plain": [
              "<Figure size 432x288 with 1 Axes>"
            ],
            "image/png": "[encoded data removed]"
          },
          "metadata": {}
        }
      ]
    }
  ]
}